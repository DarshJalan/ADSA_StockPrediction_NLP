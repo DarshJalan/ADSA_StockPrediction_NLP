{
 "cells": [
  {
   "cell_type": "code",
   "execution_count": null,
   "metadata": {
    "collapsed": true
   },
   "outputs": [],
   "source": [
    "# code by Isaac Park, netID: keonp2, ADSA Stock Prediction Project NLP 2017, CS @ Illinois\n",
    "\n",
    "from newsapi.articles import Articles\n",
    "from newsapi.sources import Sources\n",
    "from datetime import datetime\n",
    "import pandas as pd\n",
    "import json\n",
    "\n",
    "pd.options.display.max_rows = 500\n",
    "\n",
    "news = Articles(API_KEY='ec69308d133f4d66af4d1ab0b7368473')\n",
    "sources = Sources(API_KEY='ec69308d133f4d66af4d1ab0b7368473')\n",
    "\n",
    "articles_df = pd.DataFrame({\n",
    "    'Title': (),\n",
    "    'URL': (),\n",
    "    'Time Posted (M D Y)': (),\n",
    "    'Description': ()\n",
    "})\n",
    "\n",
    "articles_df = articles_df[['Title', 'URL', 'Time Posted (M D Y)']]"
   ]
  },
  {
   "cell_type": "code",
   "execution_count": null,
   "metadata": {
    "collapsed": true
   },
   "outputs": [],
   "source": [
    "# file directory must be formatted to loop through a range of dates\n",
    "# WIP\n",
    "\n",
    "dfDir = '/home/parkkeo1/ADSA_StockPrediction_NLP/Isaac/DataFrames/ArticleData_{:%b-%d-%Y}'\n",
    "\n",
    "print_df = pd.read_pickle('/home/parkkeo1/ADSA_StockPrediction_NLP/Isaac/DataFrames/ArticleData_{:%b-%d-%Y}'.format(datetime.now()))\n",
    "\n",
    "print_df"
   ]
  },
  {
   "cell_type": "code",
   "execution_count": null,
   "metadata": {
    "collapsed": true
   },
   "outputs": [],
   "source": [
    "# cell in which specific data will be read from the prind_df dataframe,\n",
    "# such as: URL (to feed into NewsPaper), Date (to correspond to stock prediction),\n",
    "# and Title (to scan the news entries for identifier keywords (Google, Alphabet, etc))."
   ]
  }
 ],
 "metadata": {
  "kernelspec": {
   "display_name": "Python [default]",
   "language": "python",
   "name": "python3"
  },
  "language_info": {
   "codemirror_mode": {
    "name": "ipython",
    "version": 3
   },
   "file_extension": ".py",
   "mimetype": "text/x-python",
   "name": "python",
   "nbconvert_exporter": "python",
   "pygments_lexer": "ipython3",
   "version": "3.6.2"
  }
 },
 "nbformat": 4,
 "nbformat_minor": 2
}
