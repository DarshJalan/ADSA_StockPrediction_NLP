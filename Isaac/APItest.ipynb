{
 "cells": [
  {
   "cell_type": "code",
   "execution_count": 14,
   "metadata": {
    "collapsed": true
   },
   "outputs": [],
   "source": [
    "# code by Isaac Park, netID: keonp2, ADSA Stock Prediction Project NLP 2017, CS @ Illinois\n",
    "\n",
    "from newsapi.articles import Articles\n",
    "from newsapi.sources import Sources\n",
    "from datetime import datetime\n",
    "import pandas as pd\n",
    "import json\n",
    "\n",
    "pd.options.display.max_rows = 500\n",
    "\n",
    "news = Articles(API_KEY='ec69308d133f4d66af4d1ab0b7368473')\n",
    "sources = Sources(API_KEY='ec69308d133f4d66af4d1ab0b7368473')\n",
    "\n",
    "articles_df = pd.DataFrame({\n",
    "    'Title': (),\n",
    "    'URL': (),\n",
    "    'Time Posted (M D Y)': (),\n",
    "    'Description': ()\n",
    "})\n",
    "\n",
    "# Time Posted is yet to be formatted into readable year, month, and day formats\n",
    "\n",
    "articles_df = articles_df[['Title', 'URL', 'Time Posted (M D Y)']]"
   ]
  },
  {
   "cell_type": "code",
   "execution_count": 15,
   "metadata": {
    "collapsed": true
   },
   "outputs": [],
   "source": [
    "# had to hard-code in the website ids because pulling sources by category seemed to not pull all sources.\n",
    "# all of these sources have the 'top' article category available.\n",
    "\n",
    "websites = ['ars-technica', 'associated-press', 'bbc-news', 'business-insider-uk', 'business-insider', 'bloomberg', \n",
    "            'cnbc', 'cnn', 'engadget', 'fortune', 'google-news', 'hacker-news', \n",
    "            'newsweek', 'recode', 'reddit-r-all', 'reuters', 'techcrunch', 'techradar', 'the-economist', \n",
    "            'the-guardian-au', 'the-guardian-uk', 'the-huffington-post', 'the-new-york-times', 'the-telegraph', \n",
    "            'the-verge', 'the-wall-street-journal', 'the-washington-post', 'time', 'usa-today']"
   ]
  },
  {
   "cell_type": "code",
   "execution_count": 16,
   "metadata": {},
   "outputs": [],
   "source": [
    "for name in websites:\n",
    "    top = news.get_by_top(source = name)\n",
    "    for article in top.articles:\n",
    "        if isinstance(article['publishedAt'], str):\n",
    "            limitDate = article['publishedAt'][:10]\n",
    "            newDate = limitDate.replace('-', ' ')\n",
    "            time = datetime.strptime(newDate, '%Y %m %d')\n",
    "            formatTime = time.strftime('%m %d %Y')\n",
    "        else:\n",
    "            formatTime = None\n",
    "        gather = pd.Series([article['title'], article['url'], formatTime, article['description']], \n",
    "                            index=['Title', 'URL', 'Time Posted (M D Y)', 'Description'])\n",
    "        articles_df = articles_df.append(gather, ignore_index = True)\n",
    "\n",
    "# articles_df"
   ]
  },
  {
   "cell_type": "code",
   "execution_count": 69,
   "metadata": {
    "scrolled": true
   },
   "outputs": [
    {
     "name": "stdout",
     "output_type": "stream",
     "text": [
      "No Longer Useful Code As of 10/22/2017\n"
     ]
    }
   ],
   "source": [
    "# categories from which sources are to be pulled: technology, business, general and maybe politics/gaming\n",
    "# code currently pulls top articles, but if popular sort is available then popular articles should be pulled as well\n",
    "# popular sort pull is yet to be implemented\n",
    "# no longer useful code as of 10/22/2017\n",
    "\n",
    "\"\"\"\n",
    "\n",
    "tech = sources.get(category='technology', language='en', country='us')\n",
    "business = sources.get(category='business', language='en', country='us')\n",
    "general = sources.get(category='general', language='en', country='us')\n",
    "\n",
    "for src in tech.sources:\n",
    "    if src['sortBysAvailable'][0] == 'top':\n",
    "        top = news.get_by_top(source = src['id'])\n",
    "        for article in top.articles:\n",
    "            print(article['publishedAt'])\n",
    "            gather = pd.Series([article['title'], article['url'], article['publishedAt'], article['description']], \n",
    "                               index=['Title', 'URL', 'Time Posted', 'Description'])\n",
    "            articles_df = articles_df.append(gather, ignore_index = True)\n",
    "\n",
    "for src in business.sources:\n",
    "    if src['sortBysAvailable'][0] == 'top':\n",
    "        top = news.get_by_top(source = src['id'])\n",
    "        for article in top.articles:\n",
    "            gather = pd.Series([article['title'], article['url'], article['publishedAt'], article['description']], \n",
    "                               index=['Title', 'URL', 'Time Posted', 'Description'])\n",
    "            articles_df = articles_df.append(gather, ignore_index = True)\n",
    "            \n",
    "for src in general.sources:\n",
    "    if src['sortBysAvailable'][0] == 'top':\n",
    "        top = news.get_by_top(source = src['id'])\n",
    "        for article in top.articles:\n",
    "            gather = pd.Series([article['title'], article['url'], article['publishedAt'], article['description']], \n",
    "                               index=['Title', 'URL', 'Time Posted', 'Description'])\n",
    "            articles_df = articles_df.append(gather, ignore_index = True)\n",
    "            \n",
    "\"\"\"\n",
    "\n",
    "print('No Longer Useful Code As of 10/22/2017')"
   ]
  },
  {
   "cell_type": "code",
   "execution_count": 67,
   "metadata": {
    "collapsed": true
   },
   "outputs": [],
   "source": [
    "# cell for testing, do not run unless testing source list output\n",
    "\n",
    "# sources.get(category='business', language='en', country='us')"
   ]
  },
  {
   "cell_type": "code",
   "execution_count": 68,
   "metadata": {
    "collapsed": true
   },
   "outputs": [],
   "source": [
    "# cell for testing, do not run unless testing individual sources\n",
    "\n",
    "top = news.get_by_top(source=\"the-new-york-times\")\n",
    "\n",
    "for article in top.articles:\n",
    "    gather = pd.Series([article['title'], article['url'], article['publishedAt'], article['description']], \n",
    "                       index=['Title', 'URL', 'Time Posted', 'Description'])\n",
    "    articles_df = articles_df.append(gather, ignore_index = True)\n",
    "\n",
    "# articles_df"
   ]
  },
  {
   "cell_type": "code",
   "execution_count": null,
   "metadata": {
    "collapsed": true
   },
   "outputs": [],
   "source": []
  }
 ],
 "metadata": {
  "kernelspec": {
   "display_name": "Python [default]",
   "language": "python",
   "name": "python3"
  },
  "language_info": {
   "codemirror_mode": {
    "name": "ipython",
    "version": 3
   },
   "file_extension": ".py",
   "mimetype": "text/x-python",
   "name": "python",
   "nbconvert_exporter": "python",
   "pygments_lexer": "ipython3",
   "version": "3.6.2"
  }
 },
 "nbformat": 4,
 "nbformat_minor": 2
}
