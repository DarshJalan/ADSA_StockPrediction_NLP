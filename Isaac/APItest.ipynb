{
 "cells": [
  {
   "cell_type": "code",
   "execution_count": 36,
   "metadata": {},
   "outputs": [
    {
     "name": "stdout",
     "output_type": "stream",
     "text": [
      "0\n",
      "{'author': 'Lupita Nyong’o', 'title': 'Opinion | Lupita Nyong’o: Speaking Out About Harvey Weinstein', 'description': 'I don’t feel alone anymore. Let us never shut up about this.', 'url': 'https://www.nytimes.com/2017/10/19/opinion/lupita-nyongo-harvey-weinstein.html', 'urlToImage': 'https://static01.nyt.com/images/2017/10/20/opinion/19nyongoWeb/19nyongoWeb-facebookJumbo.jpg', 'publishedAt': '2017-10-20T20:00:30Z'}\n",
      "1\n",
      "{'author': 'Yamiche Alcindor and Michael D. Shear', 'title': 'After Video Refutes Kelly’s Charges, Congresswoman Raises Issue of Race', 'description': 'Representative Frederica S. Wilson said John F. Kelly, the president’s chief of staff, lied by suggesting she had taken credit for obtaining funding for a federal building in Miami.', 'url': 'https://www.nytimes.com/2017/10/20/us/politics/trump-kelly-congresswoman-wilson-niger.html', 'urlToImage': 'https://static01.nyt.com/images/2017/10/21/us/21dc-kelly1/21dc-kelly1-facebookJumbo.jpg', 'publishedAt': '2017-10-21T15:45:15Z'}\n",
      "2\n",
      "{'author': 'Jodi Kantor', 'title': 'Tarantino on Weinstein: ‘I Knew Enough to Do More Than I Did’', 'description': 'Quentin Tarantino says he knew about allegations against Harvey Weinstein and feels ashamed about not taking a stronger stand.', 'url': 'https://www.nytimes.com/2017/10/19/movies/tarantino-weinstein.html', 'urlToImage': 'https://static01.nyt.com/images/2017/10/20/us/20TARANTINO1/20TARANTINO1-facebookJumbo.jpg', 'publishedAt': '2017-10-20T21:50:59Z'}\n",
      "3\n",
      "{'author': None, 'title': 'Vikings Razed the Forests. Can Iceland Regrow Them?', 'description': 'The country lost most of its trees long ago. Despite years of replanting, it isn’t making much progress.', 'url': 'https://www.nytimes.com/interactive/2017/10/20/climate/iceland-trees-reforestation.html', 'urlToImage': 'https://static01.nyt.com/images/2017/10/22/climate/22iceland-print/merlin-to-scoop-126602513-337561-facebookJumbo.jpg', 'publishedAt': '2017-10-21T15:57:45Z'}\n",
      "4\n",
      "{'author': 'Michael D. Shear', 'title': 'Trump Says He Will Release Final Set of Documents on Kennedy Assassination', 'description': 'A 1992 law that sought to quell conspiracy theories about the killing mandated the release of the secret documents by Oct. 26 of this year.', 'url': 'https://www.nytimes.com/2017/10/21/us/politics/trump-jfk-assassination-classified.html', 'urlToImage': 'https://static01.nyt.com/images/2017/10/22/us/22dc-trump/22dc-trump-facebookJumbo.jpg', 'publishedAt': '2017-10-21T18:35:19Z'}\n",
      "5\n",
      "{'author': 'Emily Steel and Michael S. Schmidt', 'title': 'O’Reilly Settled New Harassment Claims, Then Fox Renewed His Contract', 'description': 'In January, the Fox News host was said to have agreed to a $32 million settlement with a former network analyst, the largest of his known payouts.', 'url': 'https://www.nytimes.com/2017/10/21/business/media/bill-oreilly-sexual-harassment.html', 'urlToImage': 'https://static01.nyt.com/images/2017/10/21/business/22FOX-8/22FOX-8-facebookJumbo.jpg', 'publishedAt': '2017-10-21T19:31:31Z'}\n",
      "6\n",
      "{'author': 'Reed Abelson', 'title': 'I.R.S. Says It Will Reject Tax Returns that Lack Health Insurance Disclosure', 'description': 'The agency says it won’t accept individual tax returns that don’t meet requirements under the Affordable Care Act.', 'url': 'https://www.nytimes.com/2017/10/20/health/irs-obamacare-mandate.html', 'urlToImage': 'https://static01.nyt.com/images/2017/10/21/science/21MANDATE/21MANDATE-facebookJumbo.jpg', 'publishedAt': '2017-10-21T18:32:41Z'}\n",
      "7\n",
      "{'author': 'Peter Baker', 'title': 'Without Saying ‘Trump,’ Bush and Obama Deliver Implicit Rebukes', 'description': 'George W. Bush and Barack Obama emerged from political seclusion and denounced the politics of division, sending a message to their successor in the White House.', 'url': 'https://www.nytimes.com/2017/10/19/us/politics/george-bush-trump.html', 'urlToImage': 'https://static01.nyt.com/images/2017/10/20/us/20dc-presidents/20dc-presidents-facebookJumbo.jpg', 'publishedAt': '2017-10-20T15:45:32Z'}\n",
      "8\n",
      "{'author': 'Jim Tankersley', 'title': 'Republicans Consider Sharp Cut in 401(k) Contribution Limits', 'description': 'A move to reduce contribution limits would almost certainly prompt a vocal backlash from middle-class workers who save heavily in such retirement accounts.', 'url': 'https://www.nytimes.com/2017/10/20/us/politics/republicans-tax-401-k.html', 'urlToImage': 'https://static01.nyt.com/images/2017/10/21/us/21dc-401k/21dc-401k-facebookJumbo.jpg', 'publishedAt': '2017-10-21T17:53:51Z'}\n",
      "9\n",
      "{'author': 'Raphael Minder', 'title': 'Spain Will Remove Catalonia Leader, Escalating Secession Crisis', 'description': 'Mariano Rajoy, in an unexpectedly forceful move, said Madrid would take control of the independence-minded region, pushing out its separatist administration.', 'url': 'https://www.nytimes.com/2017/10/21/world/europe/spain-catalonia-mariano-rajoy.html', 'urlToImage': 'https://static01.nyt.com/images/2017/10/22/world/22spain-2/22spain-2-facebookJumbo.jpg', 'publishedAt': '2017-10-21T21:06:09Z'}\n"
     ]
    }
   ],
   "source": [
    "from newsapi.articles import Articles\n",
    "import pandas as pd\n",
    "import json\n",
    "\n",
    "news = Articles(API_KEY='ec69308d133f4d66af4d1ab0b7368473')\n",
    "\n",
    "articles_df = pd.DataFrame({\n",
    "    'Title': (),\n",
    "    'URL': (),\n",
    "    'Time Posted': (),\n",
    "    'Desc': ()\n",
    "})\n",
    "\n",
    "articles_df = articles_df[['Title', 'URL', 'Time Posted', 'Desc']]\n",
    "\n",
    "top = news.get_by_top(source=\"the-new-york-times\")\n",
    "\n",
    "i = 0\n",
    "\n",
    "for article in top.articles:\n",
    "    print(i)\n",
    "    print(article)\n",
    "    i += 1"
   ]
  },
  {
   "cell_type": "code",
   "execution_count": 33,
   "metadata": {},
   "outputs": [
    {
     "data": {
      "text/plain": [
       "{'articles': [{'author': 'Lupita Nyong’o',\n",
       "   'description': 'I don’t feel alone anymore. Let us never shut up about this.',\n",
       "   'publishedAt': '2017-10-20T20:00:30Z',\n",
       "   'title': 'Opinion | Lupita Nyong’o: Speaking Out About Harvey Weinstein',\n",
       "   'url': 'https://www.nytimes.com/2017/10/19/opinion/lupita-nyongo-harvey-weinstein.html',\n",
       "   'urlToImage': 'https://static01.nyt.com/images/2017/10/20/opinion/19nyongoWeb/19nyongoWeb-facebookJumbo.jpg'},\n",
       "  {'author': 'Yamiche Alcindor and Michael D. Shear',\n",
       "   'description': 'Representative Frederica S. Wilson said John F. Kelly, the president’s chief of staff, lied by suggesting she had taken credit for obtaining funding for a federal building in Miami.',\n",
       "   'publishedAt': '2017-10-21T15:45:15Z',\n",
       "   'title': 'After Video Refutes Kelly’s Charges, Congresswoman Raises Issue of Race',\n",
       "   'url': 'https://www.nytimes.com/2017/10/20/us/politics/trump-kelly-congresswoman-wilson-niger.html',\n",
       "   'urlToImage': 'https://static01.nyt.com/images/2017/10/21/us/21dc-kelly1/21dc-kelly1-facebookJumbo.jpg'},\n",
       "  {'author': 'Jodi Kantor',\n",
       "   'description': 'Quentin Tarantino says he knew about allegations against Harvey Weinstein and feels ashamed about not taking a stronger stand.',\n",
       "   'publishedAt': '2017-10-20T21:50:59Z',\n",
       "   'title': 'Tarantino on Weinstein: ‘I Knew Enough to Do More Than I Did’',\n",
       "   'url': 'https://www.nytimes.com/2017/10/19/movies/tarantino-weinstein.html',\n",
       "   'urlToImage': 'https://static01.nyt.com/images/2017/10/20/us/20TARANTINO1/20TARANTINO1-facebookJumbo.jpg'},\n",
       "  {'author': None,\n",
       "   'description': 'The country lost most of its trees long ago. Despite years of replanting, it isn’t making much progress.',\n",
       "   'publishedAt': '2017-10-21T15:57:45Z',\n",
       "   'title': 'Vikings Razed the Forests. Can Iceland Regrow Them?',\n",
       "   'url': 'https://www.nytimes.com/interactive/2017/10/20/climate/iceland-trees-reforestation.html',\n",
       "   'urlToImage': 'https://static01.nyt.com/images/2017/10/22/climate/22iceland-print/merlin-to-scoop-126602513-337561-facebookJumbo.jpg'},\n",
       "  {'author': 'Michael D. Shear',\n",
       "   'description': 'A 1992 law that sought to quell conspiracy theories about the killing mandated the release of the secret documents by Oct. 26 of this year.',\n",
       "   'publishedAt': '2017-10-21T18:35:19Z',\n",
       "   'title': 'Trump Says He Will Release Final Set of Documents on Kennedy Assassination',\n",
       "   'url': 'https://www.nytimes.com/2017/10/21/us/politics/trump-jfk-assassination-classified.html',\n",
       "   'urlToImage': 'https://static01.nyt.com/images/2017/10/22/us/22dc-trump/22dc-trump-facebookJumbo.jpg'},\n",
       "  {'author': 'Emily Steel and Michael S. Schmidt',\n",
       "   'description': 'In January, the Fox News host was said to have agreed to a $32 million settlement with a former network analyst, the largest of his known payouts.',\n",
       "   'publishedAt': '2017-10-21T19:31:31Z',\n",
       "   'title': 'O’Reilly Settled New Harassment Claims, Then Fox Renewed His Contract',\n",
       "   'url': 'https://www.nytimes.com/2017/10/21/business/media/bill-oreilly-sexual-harassment.html',\n",
       "   'urlToImage': 'https://static01.nyt.com/images/2017/10/21/business/22FOX-8/22FOX-8-facebookJumbo.jpg'},\n",
       "  {'author': 'Reed Abelson',\n",
       "   'description': 'The agency says it won’t accept individual tax returns that don’t meet requirements under the Affordable Care Act.',\n",
       "   'publishedAt': '2017-10-21T18:32:41Z',\n",
       "   'title': 'I.R.S. Says It Will Reject Tax Returns that Lack Health Insurance Disclosure',\n",
       "   'url': 'https://www.nytimes.com/2017/10/20/health/irs-obamacare-mandate.html',\n",
       "   'urlToImage': 'https://static01.nyt.com/images/2017/10/21/science/21MANDATE/21MANDATE-facebookJumbo.jpg'},\n",
       "  {'author': 'Peter Baker',\n",
       "   'description': 'George W. Bush and Barack Obama emerged from political seclusion and denounced the politics of division, sending a message to their successor in the White House.',\n",
       "   'publishedAt': '2017-10-20T15:45:32Z',\n",
       "   'title': 'Without Saying ‘Trump,’ Bush and Obama Deliver Implicit Rebukes',\n",
       "   'url': 'https://www.nytimes.com/2017/10/19/us/politics/george-bush-trump.html',\n",
       "   'urlToImage': 'https://static01.nyt.com/images/2017/10/20/us/20dc-presidents/20dc-presidents-facebookJumbo.jpg'},\n",
       "  {'author': 'Jim Tankersley',\n",
       "   'description': 'A move to reduce contribution limits would almost certainly prompt a vocal backlash from middle-class workers who save heavily in such retirement accounts.',\n",
       "   'publishedAt': '2017-10-21T17:53:51Z',\n",
       "   'title': 'Republicans Consider Sharp Cut in 401(k) Contribution Limits',\n",
       "   'url': 'https://www.nytimes.com/2017/10/20/us/politics/republicans-tax-401-k.html',\n",
       "   'urlToImage': 'https://static01.nyt.com/images/2017/10/21/us/21dc-401k/21dc-401k-facebookJumbo.jpg'},\n",
       "  {'author': 'Raphael Minder',\n",
       "   'description': 'Mariano Rajoy, in an unexpectedly forceful move, said Madrid would take control of the independence-minded region, pushing out its separatist administration.',\n",
       "   'publishedAt': '2017-10-21T21:06:09Z',\n",
       "   'title': 'Spain Will Remove Catalonia Leader, Escalating Secession Crisis',\n",
       "   'url': 'https://www.nytimes.com/2017/10/21/world/europe/spain-catalonia-mariano-rajoy.html',\n",
       "   'urlToImage': 'https://static01.nyt.com/images/2017/10/22/world/22spain-2/22spain-2-facebookJumbo.jpg'}],\n",
       " 'sortBy': 'top',\n",
       " 'source': 'the-new-york-times',\n",
       " 'status': 'ok'}"
      ]
     },
     "execution_count": 33,
     "metadata": {},
     "output_type": "execute_result"
    }
   ],
   "source": [
    "news.get_by_top(source=\"the-new-york-times\")"
   ]
  },
  {
   "cell_type": "code",
   "execution_count": null,
   "metadata": {
    "collapsed": true
   },
   "outputs": [],
   "source": []
  }
 ],
 "metadata": {
  "kernelspec": {
   "display_name": "Python [default]",
   "language": "python",
   "name": "python3"
  },
  "language_info": {
   "codemirror_mode": {
    "name": "ipython",
    "version": 3
   },
   "file_extension": ".py",
   "mimetype": "text/x-python",
   "name": "python",
   "nbconvert_exporter": "python",
   "pygments_lexer": "ipython3",
   "version": "3.6.2"
  }
 },
 "nbformat": 4,
 "nbformat_minor": 2
}
